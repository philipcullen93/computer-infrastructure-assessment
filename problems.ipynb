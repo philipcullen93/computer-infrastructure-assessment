{
 "cells": [
  {
   "cell_type": "markdown",
   "id": "74c7aac0",
   "metadata": {},
   "source": [
    "This is my Jupyter Notebook where I will work through the assessment problems."
   ]
  }
 ],
 "metadata": {
  "language_info": {
   "name": "python"
  }
 },
 "nbformat": 4,
 "nbformat_minor": 5
}
